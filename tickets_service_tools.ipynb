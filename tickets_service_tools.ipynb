{
 "cells": [
  {
   "cell_type": "markdown",
   "metadata": {},
   "source": [
    "### Analyze Helpdesk tickets"
   ]
  },
  {
   "cell_type": "code",
   "execution_count": 1,
   "metadata": {},
   "outputs": [],
   "source": [
    "import matplotlib.pyplot as plt\n",
    "import pandas as pd\n",
    "import numpy as np\n",
    "import seaborn as sns\n",
    "import scipy.stats as stats\n",
    "from sklearn.metrics import confusion_matrix\n",
    "from sklearn.metrics import RocCurveDisplay\n",
    "from sklearn.preprocessing import RobustScaler"
   ]
  },
  {
   "cell_type": "code",
   "execution_count": null,
   "metadata": {},
   "outputs": [],
   "source": [
    "from sklearn.model_selection import train_test_split"
   ]
  },
  {
   "cell_type": "code",
   "execution_count": null,
   "metadata": {},
   "outputs": [],
   "source": [
    "import warnings\n",
    "warnings.filterwarnings('always')\n",
    "warnings.filterwarnings('ignore')"
   ]
  },
  {
   "cell_type": "code",
   "execution_count": 4,
   "metadata": {},
   "outputs": [],
   "source": [
    "tickets = pd.read_csv(\"C:/Users/HP/Desktop/tickets/WA_Fn-UseC_-IT-Help-Desk.csv\")"
   ]
  },
  {
   "cell_type": "code",
   "execution_count": 5,
   "metadata": {},
   "outputs": [
    {
     "data": {
      "text/plain": [
       "Index(['ticket', 'requestor', 'RequestorSeniority', 'ITOwner', 'FiledAgainst',\n",
       "       'TicketType', 'Severity', 'Priority', 'daysOpen', 'Satisfaction'],\n",
       "      dtype='object')"
      ]
     },
     "execution_count": 5,
     "metadata": {},
     "output_type": "execute_result"
    }
   ],
   "source": [
    "tickets.columns"
   ]
  },
  {
   "cell_type": "code",
   "execution_count": 6,
   "metadata": {},
   "outputs": [],
   "source": [
    "tickets = tickets[['ticket', 'requestor', 'RequestorSeniority', 'ITOwner', 'FiledAgainst',\n",
    "       'TicketType', 'Priority', 'daysOpen', 'Satisfaction']]"
   ]
  },
  {
   "cell_type": "code",
   "execution_count": 7,
   "metadata": {},
   "outputs": [
    {
     "data": {
      "text/html": [
       "<div>\n",
       "<style scoped>\n",
       "    .dataframe tbody tr th:only-of-type {\n",
       "        vertical-align: middle;\n",
       "    }\n",
       "\n",
       "    .dataframe tbody tr th {\n",
       "        vertical-align: top;\n",
       "    }\n",
       "\n",
       "    .dataframe thead th {\n",
       "        text-align: right;\n",
       "    }\n",
       "</style>\n",
       "<table border=\"1\" class=\"dataframe\">\n",
       "  <thead>\n",
       "    <tr style=\"text-align: right;\">\n",
       "      <th></th>\n",
       "      <th>ticket</th>\n",
       "      <th>requestor</th>\n",
       "      <th>RequestorSeniority</th>\n",
       "      <th>ITOwner</th>\n",
       "      <th>FiledAgainst</th>\n",
       "      <th>TicketType</th>\n",
       "      <th>Priority</th>\n",
       "      <th>daysOpen</th>\n",
       "      <th>Satisfaction</th>\n",
       "    </tr>\n",
       "  </thead>\n",
       "  <tbody>\n",
       "    <tr>\n",
       "      <th>0</th>\n",
       "      <td>1</td>\n",
       "      <td>1929</td>\n",
       "      <td>1 - Junior</td>\n",
       "      <td>50</td>\n",
       "      <td>Systems</td>\n",
       "      <td>Issue</td>\n",
       "      <td>0 - Unassigned</td>\n",
       "      <td>3</td>\n",
       "      <td>1 - Unsatisfied</td>\n",
       "    </tr>\n",
       "    <tr>\n",
       "      <th>1</th>\n",
       "      <td>2</td>\n",
       "      <td>1587</td>\n",
       "      <td>2 - Regular</td>\n",
       "      <td>15</td>\n",
       "      <td>Software</td>\n",
       "      <td>Request</td>\n",
       "      <td>1 - Low</td>\n",
       "      <td>5</td>\n",
       "      <td>1 - Unsatisfied</td>\n",
       "    </tr>\n",
       "    <tr>\n",
       "      <th>2</th>\n",
       "      <td>3</td>\n",
       "      <td>925</td>\n",
       "      <td>2 - Regular</td>\n",
       "      <td>15</td>\n",
       "      <td>Access/Login</td>\n",
       "      <td>Request</td>\n",
       "      <td>0 - Unassigned</td>\n",
       "      <td>0</td>\n",
       "      <td>0 - Unknown</td>\n",
       "    </tr>\n",
       "  </tbody>\n",
       "</table>\n",
       "</div>"
      ],
      "text/plain": [
       "   ticket  requestor RequestorSeniority  ITOwner  FiledAgainst TicketType  \\\n",
       "0       1       1929         1 - Junior       50       Systems      Issue   \n",
       "1       2       1587        2 - Regular       15      Software    Request   \n",
       "2       3        925        2 - Regular       15  Access/Login    Request   \n",
       "\n",
       "         Priority  daysOpen     Satisfaction  \n",
       "0  0 - Unassigned         3  1 - Unsatisfied  \n",
       "1         1 - Low         5  1 - Unsatisfied  \n",
       "2  0 - Unassigned         0      0 - Unknown  "
      ]
     },
     "execution_count": 7,
     "metadata": {},
     "output_type": "execute_result"
    }
   ],
   "source": [
    "tickets.head(3)"
   ]
  },
  {
   "cell_type": "markdown",
   "metadata": {},
   "source": [
    "#### Exploratory Data Science"
   ]
  },
  {
   "cell_type": "code",
   "execution_count": 8,
   "metadata": {},
   "outputs": [
    {
     "data": {
      "text/plain": [
       "(100000, 9)"
      ]
     },
     "execution_count": 8,
     "metadata": {},
     "output_type": "execute_result"
    }
   ],
   "source": [
    "tickets.shape"
   ]
  },
  {
   "cell_type": "code",
   "execution_count": 9,
   "metadata": {},
   "outputs": [
    {
     "name": "stdout",
     "output_type": "stream",
     "text": [
      "<class 'pandas.core.frame.DataFrame'>\n",
      "RangeIndex: 100000 entries, 0 to 99999\n",
      "Data columns (total 9 columns):\n",
      " #   Column              Non-Null Count   Dtype \n",
      "---  ------              --------------   ----- \n",
      " 0   ticket              100000 non-null  int64 \n",
      " 1   requestor           100000 non-null  int64 \n",
      " 2   RequestorSeniority  100000 non-null  object\n",
      " 3   ITOwner             100000 non-null  int64 \n",
      " 4   FiledAgainst        100000 non-null  object\n",
      " 5   TicketType          100000 non-null  object\n",
      " 6   Priority            100000 non-null  object\n",
      " 7   daysOpen            100000 non-null  int64 \n",
      " 8   Satisfaction        100000 non-null  object\n",
      "dtypes: int64(4), object(5)\n",
      "memory usage: 6.9+ MB\n"
     ]
    }
   ],
   "source": [
    "tickets.info()"
   ]
  },
  {
   "cell_type": "code",
   "execution_count": 10,
   "metadata": {},
   "outputs": [],
   "source": [
    "train, test = train_test_split(tickets, test_size=0.25, random_state=42, shuffle=True)"
   ]
  },
  {
   "cell_type": "markdown",
   "metadata": {},
   "source": [
    "### Missing Value Imputation"
   ]
  },
  {
   "cell_type": "code",
   "execution_count": 11,
   "metadata": {},
   "outputs": [
    {
     "data": {
      "text/plain": [
       "(675000, 225000)"
      ]
     },
     "execution_count": 11,
     "metadata": {},
     "output_type": "execute_result"
    }
   ],
   "source": [
    "train.size, test.size"
   ]
  },
  {
   "cell_type": "code",
   "execution_count": 12,
   "metadata": {},
   "outputs": [
    {
     "data": {
      "text/plain": [
       "ticket                0\n",
       "requestor             0\n",
       "RequestorSeniority    0\n",
       "ITOwner               0\n",
       "FiledAgainst          0\n",
       "TicketType            0\n",
       "Priority              0\n",
       "daysOpen              0\n",
       "Satisfaction          0\n",
       "dtype: int64"
      ]
     },
     "execution_count": 12,
     "metadata": {},
     "output_type": "execute_result"
    }
   ],
   "source": [
    "tickets.isnull().sum()"
   ]
  },
  {
   "cell_type": "code",
   "execution_count": 13,
   "metadata": {},
   "outputs": [
    {
     "name": "stdout",
     "output_type": "stream",
     "text": [
      "ticket                0.0\n",
      "requestor             0.0\n",
      "RequestorSeniority    0.0\n",
      "ITOwner               0.0\n",
      "FiledAgainst          0.0\n",
      "TicketType            0.0\n",
      "Priority              0.0\n",
      "daysOpen              0.0\n",
      "Satisfaction          0.0\n",
      "dtype: float64\n"
     ]
    }
   ],
   "source": [
    "print(tickets.isnull().sum()/tickets.shape[0] *100)"
   ]
  },
  {
   "cell_type": "code",
   "execution_count": 14,
   "metadata": {},
   "outputs": [
    {
     "data": {
      "text/plain": [
       "0 - Unknown             30211\n",
       "3 - Highly satisfied    29063\n",
       "1 - Unsatisfied         21124\n",
       "2 - Satisfied           19602\n",
       "Name: Satisfaction, dtype: int64"
      ]
     },
     "execution_count": 14,
     "metadata": {},
     "output_type": "execute_result"
    }
   ],
   "source": [
    "tickets.Satisfaction.value_counts()"
   ]
  },
  {
   "cell_type": "code",
   "execution_count": 15,
   "metadata": {},
   "outputs": [],
   "source": [
    "tickets.Satisfaction = tickets.Satisfaction.astype('category').cat.codes"
   ]
  },
  {
   "cell_type": "code",
   "execution_count": 16,
   "metadata": {},
   "outputs": [
    {
     "data": {
      "text/html": [
       "<div>\n",
       "<style scoped>\n",
       "    .dataframe tbody tr th:only-of-type {\n",
       "        vertical-align: middle;\n",
       "    }\n",
       "\n",
       "    .dataframe tbody tr th {\n",
       "        vertical-align: top;\n",
       "    }\n",
       "\n",
       "    .dataframe thead th {\n",
       "        text-align: right;\n",
       "    }\n",
       "</style>\n",
       "<table border=\"1\" class=\"dataframe\">\n",
       "  <thead>\n",
       "    <tr style=\"text-align: right;\">\n",
       "      <th></th>\n",
       "      <th>ticket</th>\n",
       "      <th>requestor</th>\n",
       "      <th>RequestorSeniority</th>\n",
       "      <th>ITOwner</th>\n",
       "      <th>FiledAgainst</th>\n",
       "      <th>TicketType</th>\n",
       "      <th>Priority</th>\n",
       "      <th>daysOpen</th>\n",
       "      <th>Satisfaction</th>\n",
       "    </tr>\n",
       "  </thead>\n",
       "  <tbody>\n",
       "    <tr>\n",
       "      <th>0</th>\n",
       "      <td>1</td>\n",
       "      <td>1929</td>\n",
       "      <td>1 - Junior</td>\n",
       "      <td>50</td>\n",
       "      <td>Systems</td>\n",
       "      <td>Issue</td>\n",
       "      <td>0 - Unassigned</td>\n",
       "      <td>3</td>\n",
       "      <td>1</td>\n",
       "    </tr>\n",
       "    <tr>\n",
       "      <th>1</th>\n",
       "      <td>2</td>\n",
       "      <td>1587</td>\n",
       "      <td>2 - Regular</td>\n",
       "      <td>15</td>\n",
       "      <td>Software</td>\n",
       "      <td>Request</td>\n",
       "      <td>1 - Low</td>\n",
       "      <td>5</td>\n",
       "      <td>1</td>\n",
       "    </tr>\n",
       "  </tbody>\n",
       "</table>\n",
       "</div>"
      ],
      "text/plain": [
       "   ticket  requestor RequestorSeniority  ITOwner FiledAgainst TicketType  \\\n",
       "0       1       1929         1 - Junior       50      Systems      Issue   \n",
       "1       2       1587        2 - Regular       15     Software    Request   \n",
       "\n",
       "         Priority  daysOpen  Satisfaction  \n",
       "0  0 - Unassigned         3             1  \n",
       "1         1 - Low         5             1  "
      ]
     },
     "execution_count": 16,
     "metadata": {},
     "output_type": "execute_result"
    }
   ],
   "source": [
    "tickets.head(2)"
   ]
  },
  {
   "cell_type": "code",
   "execution_count": 17,
   "metadata": {},
   "outputs": [],
   "source": [
    "tickets.Priority = tickets.Priority.astype('category').cat.codes\n",
    "# tickets.Severity = tickets.Severity.astype('category').cat.codes\n",
    "tickets.TicketType = tickets.TicketType.astype('category').cat.codes\n",
    "tickets.FiledAgainst = tickets.FiledAgainst.astype('category').cat.codes\n",
    "tickets.RequestorSeniority = tickets.RequestorSeniority.astype('category').cat.codes\n"
   ]
  },
  {
   "cell_type": "markdown",
   "metadata": {},
   "source": [
    "### Scaling"
   ]
  },
  {
   "cell_type": "code",
   "execution_count": 18,
   "metadata": {},
   "outputs": [
    {
     "data": {
      "text/plain": [
       "ticket                int64\n",
       "requestor             int64\n",
       "RequestorSeniority     int8\n",
       "ITOwner               int64\n",
       "FiledAgainst           int8\n",
       "TicketType             int8\n",
       "Priority               int8\n",
       "daysOpen              int64\n",
       "Satisfaction           int8\n",
       "dtype: object"
      ]
     },
     "execution_count": 18,
     "metadata": {},
     "output_type": "execute_result"
    }
   ],
   "source": [
    "tickets.dtypes"
   ]
  },
  {
   "cell_type": "code",
   "execution_count": 19,
   "metadata": {},
   "outputs": [],
   "source": [
    "#lets import libraries\n",
    "import pandas as pd\n",
    "import numpy as np\n",
    "import matplotlib.pyplot as plt\n",
    "import seaborn as sns\n",
    "import scipy.stats as st\n",
    "import sklearn.datasets as dts\n",
    "import matplotlib.pyplot as plt\n",
    "from itertools import permutations\n",
    "from sklearn.preprocessing import LabelEncoder\n",
    "from sklearn.metrics import classification_report\n",
    "from sklearn.model_selection import train_test_split\n",
    "from sklearn.ensemble import GradientBoostingRegressor\n",
    "\n",
    "from sklearn.preprocessing import StandardScaler"
   ]
  },
  {
   "cell_type": "code",
   "execution_count": 20,
   "metadata": {},
   "outputs": [],
   "source": [
    "X = (tickets.drop(columns=tickets[['Priority']],axis=0)).values\n",
    "Y = (tickets.iloc[:,-1:]).values"
   ]
  },
  {
   "cell_type": "code",
   "execution_count": 21,
   "metadata": {},
   "outputs": [
    {
     "name": "stdout",
     "output_type": "stream",
     "text": [
      "(100000, 8) (100000, 1)\n"
     ]
    }
   ],
   "source": [
    "print(X.shape, Y.shape)"
   ]
  },
  {
   "cell_type": "code",
   "execution_count": 22,
   "metadata": {},
   "outputs": [],
   "source": [
    "scaler =StandardScaler()\n",
    "X=scaler.fit_transform(X)"
   ]
  },
  {
   "cell_type": "code",
   "execution_count": 23,
   "metadata": {},
   "outputs": [],
   "source": [
    "X  = pd.DataFrame(X)"
   ]
  },
  {
   "cell_type": "markdown",
   "metadata": {},
   "source": [
    "#### Gaussian Or Normalized "
   ]
  },
  {
   "cell_type": "code",
   "execution_count": 24,
   "metadata": {},
   "outputs": [],
   "source": [
    "import scipy.stats as stat\n",
    "import pylab "
   ]
  },
  {
   "cell_type": "code",
   "execution_count": 25,
   "metadata": {},
   "outputs": [],
   "source": [
    "#### If you want to check whether feature is guassian or normal distributed\n",
    "#### Q-Q plot\n",
    "def plot_data(df,feature):\n",
    "    plt.figure(figsize=(10,6))\n",
    "    plt.subplot(1,2,1)\n",
    "    df[feature].hist()\n",
    "    plt.subplot(1,2,2)\n",
    "    stat.probplot(df[feature],dist='norm',plot=pylab)\n",
    "    plt.show()\n",
    "    "
   ]
  },
  {
   "cell_type": "code",
   "execution_count": 26,
   "metadata": {},
   "outputs": [
    {
     "data": {
      "text/html": [
       "<div>\n",
       "<style scoped>\n",
       "    .dataframe tbody tr th:only-of-type {\n",
       "        vertical-align: middle;\n",
       "    }\n",
       "\n",
       "    .dataframe tbody tr th {\n",
       "        vertical-align: top;\n",
       "    }\n",
       "\n",
       "    .dataframe thead th {\n",
       "        text-align: right;\n",
       "    }\n",
       "</style>\n",
       "<table border=\"1\" class=\"dataframe\">\n",
       "  <thead>\n",
       "    <tr style=\"text-align: right;\">\n",
       "      <th></th>\n",
       "      <th>0</th>\n",
       "      <th>1</th>\n",
       "      <th>2</th>\n",
       "      <th>3</th>\n",
       "      <th>4</th>\n",
       "      <th>5</th>\n",
       "      <th>6</th>\n",
       "      <th>7</th>\n",
       "    </tr>\n",
       "  </thead>\n",
       "  <tbody>\n",
       "    <tr>\n",
       "      <th>0</th>\n",
       "      <td>-1.732033</td>\n",
       "      <td>1.610322</td>\n",
       "      <td>-1.361357</td>\n",
       "      <td>1.698449</td>\n",
       "      <td>1.023391</td>\n",
       "      <td>-1.735475</td>\n",
       "      <td>-0.520861</td>\n",
       "      <td>-0.396683</td>\n",
       "    </tr>\n",
       "    <tr>\n",
       "      <th>1</th>\n",
       "      <td>-1.731999</td>\n",
       "      <td>1.018120</td>\n",
       "      <td>-0.378236</td>\n",
       "      <td>-0.724050</td>\n",
       "      <td>0.234851</td>\n",
       "      <td>0.576211</td>\n",
       "      <td>-0.249779</td>\n",
       "      <td>-0.396683</td>\n",
       "    </tr>\n",
       "    <tr>\n",
       "      <th>2</th>\n",
       "      <td>-1.731964</td>\n",
       "      <td>-0.128191</td>\n",
       "      <td>-0.378236</td>\n",
       "      <td>-0.724050</td>\n",
       "      <td>-1.342229</td>\n",
       "      <td>0.576211</td>\n",
       "      <td>-0.927484</td>\n",
       "      <td>-1.231507</td>\n",
       "    </tr>\n",
       "  </tbody>\n",
       "</table>\n",
       "</div>"
      ],
      "text/plain": [
       "          0         1         2         3         4         5         6  \\\n",
       "0 -1.732033  1.610322 -1.361357  1.698449  1.023391 -1.735475 -0.520861   \n",
       "1 -1.731999  1.018120 -0.378236 -0.724050  0.234851  0.576211 -0.249779   \n",
       "2 -1.731964 -0.128191 -0.378236 -0.724050 -1.342229  0.576211 -0.927484   \n",
       "\n",
       "          7  \n",
       "0 -0.396683  \n",
       "1 -0.396683  \n",
       "2 -1.231507  "
      ]
     },
     "execution_count": 26,
     "metadata": {},
     "output_type": "execute_result"
    }
   ],
   "source": [
    "X.head(3)"
   ]
  },
  {
   "cell_type": "code",
   "execution_count": 27,
   "metadata": {},
   "outputs": [],
   "source": [
    "X.rename(columns={0:\"ticket\",\n",
    "1:\"requestor\", 2:\"RequestorSeniority\", 3:\"ITOwner\", 4:\"FiledAgainst\", 5:\"TicketType\",\n",
    "6:\"Severity\", 7:\"daysOpen\", 8:\"Satisfaction\"}, inplace=True)"
   ]
  },
  {
   "cell_type": "code",
   "execution_count": 28,
   "metadata": {},
   "outputs": [
    {
     "data": {
      "text/html": [
       "<div>\n",
       "<style scoped>\n",
       "    .dataframe tbody tr th:only-of-type {\n",
       "        vertical-align: middle;\n",
       "    }\n",
       "\n",
       "    .dataframe tbody tr th {\n",
       "        vertical-align: top;\n",
       "    }\n",
       "\n",
       "    .dataframe thead th {\n",
       "        text-align: right;\n",
       "    }\n",
       "</style>\n",
       "<table border=\"1\" class=\"dataframe\">\n",
       "  <thead>\n",
       "    <tr style=\"text-align: right;\">\n",
       "      <th></th>\n",
       "      <th>ticket</th>\n",
       "      <th>requestor</th>\n",
       "      <th>RequestorSeniority</th>\n",
       "      <th>ITOwner</th>\n",
       "      <th>FiledAgainst</th>\n",
       "      <th>TicketType</th>\n",
       "      <th>Severity</th>\n",
       "      <th>daysOpen</th>\n",
       "    </tr>\n",
       "  </thead>\n",
       "  <tbody>\n",
       "    <tr>\n",
       "      <th>0</th>\n",
       "      <td>-1.732033</td>\n",
       "      <td>1.610322</td>\n",
       "      <td>-1.361357</td>\n",
       "      <td>1.698449</td>\n",
       "      <td>1.023391</td>\n",
       "      <td>-1.735475</td>\n",
       "      <td>-0.520861</td>\n",
       "      <td>-0.396683</td>\n",
       "    </tr>\n",
       "    <tr>\n",
       "      <th>1</th>\n",
       "      <td>-1.731999</td>\n",
       "      <td>1.018120</td>\n",
       "      <td>-0.378236</td>\n",
       "      <td>-0.724050</td>\n",
       "      <td>0.234851</td>\n",
       "      <td>0.576211</td>\n",
       "      <td>-0.249779</td>\n",
       "      <td>-0.396683</td>\n",
       "    </tr>\n",
       "  </tbody>\n",
       "</table>\n",
       "</div>"
      ],
      "text/plain": [
       "     ticket  requestor  RequestorSeniority   ITOwner  FiledAgainst  \\\n",
       "0 -1.732033   1.610322           -1.361357  1.698449      1.023391   \n",
       "1 -1.731999   1.018120           -0.378236 -0.724050      0.234851   \n",
       "\n",
       "   TicketType  Severity  daysOpen  \n",
       "0   -1.735475 -0.520861 -0.396683  \n",
       "1    0.576211 -0.249779 -0.396683  "
      ]
     },
     "execution_count": 28,
     "metadata": {},
     "output_type": "execute_result"
    }
   ],
   "source": [
    "X.head(2)"
   ]
  },
  {
   "cell_type": "code",
   "execution_count": 29,
   "metadata": {},
   "outputs": [
    {
     "data": {
      "text/plain": [
       "Index(['ticket', 'requestor', 'RequestorSeniority', 'ITOwner', 'FiledAgainst',\n",
       "       'TicketType', 'Severity', 'daysOpen'],\n",
       "      dtype='object')"
      ]
     },
     "execution_count": 29,
     "metadata": {},
     "output_type": "execute_result"
    }
   ],
   "source": [
    "X.columns"
   ]
  },
  {
   "cell_type": "code",
   "execution_count": 30,
   "metadata": {},
   "outputs": [
    {
     "data": {
      "image/png": "[encoded data removed]",
      "text/plain": [
       "<Figure size 720x432 with 2 Axes>"
      ]
     },
     "metadata": {
      "needs_background": "light"
     },
     "output_type": "display_data"
    },
    {
     "data": {
      "image/png": "[encoded data removed]",
      "text/plain": [
       "<Figure size 720x432 with 2 Axes>"
      ]
     },
     "metadata": {
      "needs_background": "light"
     },
     "output_type": "display_data"
    },
    {
     "data": {
      "image/png": "[encoded data removed]",
      "text/plain": [
       "<Figure size 720x432 with 2 Axes>"
      ]
     },
     "metadata": {
      "needs_background": "light"
     },
     "output_type": "display_data"
    },
    {
     "data": {
      "image/png": "[encoded data removed]",
      "text/plain": [
       "<Figure size 720x432 with 2 Axes>"
      ]
     },
     "metadata": {
      "needs_background": "light"
     },
     "output_type": "display_data"
    },
    {
     "data": {
      "image/png": "[encoded data removed]",
      "text/plain": [
       "<Figure size 720x432 with 2 Axes>"
      ]
     },
     "metadata": {
      "needs_background": "light"
     },
     "output_type": "display_data"
    },
    {
     "data": {
      "image/png": "[encoded data removed]",
      "text/plain": [
       "<Figure size 720x432 with 2 Axes>"
      ]
     },
     "metadata": {
      "needs_background": "light"
     },
     "output_type": "display_data"
    },
    {
     "data": {
      "image/png": "[encoded data removed]",
      "text/plain": [
       "<Figure size 720x432 with 2 Axes>"
      ]
     },
     "metadata": {
      "needs_background": "light"
     },
     "output_type": "display_data"
    },
    {
     "data": {
      "image/png": "[encoded data removed]",
      "text/plain": [
       "<Figure size 720x432 with 2 Axes>"
      ]
     },
     "metadata": {
      "needs_background": "light"
     },
     "output_type": "display_data"
    }
   ],
   "source": [
    "plot_data(X,'ticket')\n",
    "plot_data(X,'requestor')\n",
    "plot_data(X,'RequestorSeniority')\n",
    "plot_data(X, 'ITOwner')\n",
    "plot_data(X, 'FiledAgainst')\n",
    "plot_data(X, 'TicketType')\n",
    "plot_data(X, 'Severity')\n",
    "plot_data(X, 'daysOpen')\n",
    "## plot_data(X, 'Satisfaction')\n"
   ]
  },
  {
   "cell_type": "code",
   "execution_count": 31,
   "metadata": {},
   "outputs": [],
   "source": [
    "Y = pd.DataFrame(Y)"
   ]
  },
  {
   "cell_type": "code",
   "execution_count": 32,
   "metadata": {},
   "outputs": [],
   "source": [
    "Y.rename(columns={0:\"Priority\"}, inplace=True)"
   ]
  },
  {
   "cell_type": "code",
   "execution_count": 33,
   "metadata": {},
   "outputs": [
    {
     "data": {
      "text/plain": [
       "Priority\n",
       "0           30211\n",
       "3           29063\n",
       "1           21124\n",
       "2           19602\n",
       "dtype: int64"
      ]
     },
     "execution_count": 33,
     "metadata": {},
     "output_type": "execute_result"
    }
   ],
   "source": [
    "Y.value_counts()"
   ]
  },
  {
   "cell_type": "markdown",
   "metadata": {},
   "source": [
    "### Feature Selection"
   ]
  },
  {
   "cell_type": "code",
   "execution_count": 34,
   "metadata": {},
   "outputs": [],
   "source": [
    "from sklearn.ensemble import ExtraTreesClassifier"
   ]
  },
  {
   "cell_type": "code",
   "execution_count": 35,
   "metadata": {},
   "outputs": [
    {
     "data": {
      "text/plain": [
       "ExtraTreesClassifier()"
      ]
     },
     "execution_count": 35,
     "metadata": {},
     "output_type": "execute_result"
    }
   ],
   "source": [
    "Ext = ExtraTreesClassifier()\n",
    "Ext.fit(X,Y)"
   ]
  },
  {
   "cell_type": "code",
   "execution_count": 36,
   "metadata": {},
   "outputs": [
    {
     "name": "stdout",
     "output_type": "stream",
     "text": [
      "[6.77168527e-03 6.93123866e-03 1.82007957e-03 9.69527993e-03\n",
      " 1.68249329e-03 6.29223753e-04 6.81888644e-03 9.65651113e-01]\n"
     ]
    }
   ],
   "source": [
    "print(Ext.feature_importances_)"
   ]
  },
  {
   "cell_type": "code",
   "execution_count": 37,
   "metadata": {},
   "outputs": [
    {
     "data": {
      "text/plain": [
       "<AxesSubplot:>"
      ]
     },
     "execution_count": 37,
     "metadata": {},
     "output_type": "execute_result"
    },
    {
     "data": {
      "image/png": "[encoded data removed]",
      "text/plain": [
       "<Figure size 432x288 with 1 Axes>"
      ]
     },
     "metadata": {
      "needs_background": "light"
     },
     "output_type": "display_data"
    }
   ],
   "source": [
    "feature = pd.Series(Ext.feature_importances_,index=X.columns)\n",
    "feature.sort_values(ascending=True).nlargest(15).plot(kind='barh')"
   ]
  },
  {
   "cell_type": "code",
   "execution_count": 38,
   "metadata": {},
   "outputs": [],
   "source": [
    "X_train,X_test,Y_train,Y_test=train_test_split(X,Y)"
   ]
  },
  {
   "cell_type": "code",
   "execution_count": 39,
   "metadata": {},
   "outputs": [
    {
     "name": "stdout",
     "output_type": "stream",
     "text": [
      "(75000, 8) (25000, 8) (75000, 1) (25000, 1)\n"
     ]
    }
   ],
   "source": [
    "print(X_train.shape,X_test.shape,Y_train.shape,Y_test.shape)"
   ]
  },
  {
   "cell_type": "markdown",
   "metadata": {},
   "source": [
    "### Correlation - To Check `Multicollinearity`"
   ]
  },
  {
   "cell_type": "code",
   "execution_count": 40,
   "metadata": {},
   "outputs": [
    {
     "data": {
      "text/html": [
       "<div>\n",
       "<style scoped>\n",
       "    .dataframe tbody tr th:only-of-type {\n",
       "        vertical-align: middle;\n",
       "    }\n",
       "\n",
       "    .dataframe tbody tr th {\n",
       "        vertical-align: top;\n",
       "    }\n",
       "\n",
       "    .dataframe thead th {\n",
       "        text-align: right;\n",
       "    }\n",
       "</style>\n",
       "<table border=\"1\" class=\"dataframe\">\n",
       "  <thead>\n",
       "    <tr style=\"text-align: right;\">\n",
       "      <th></th>\n",
       "      <th>ticket</th>\n",
       "      <th>requestor</th>\n",
       "      <th>RequestorSeniority</th>\n",
       "      <th>ITOwner</th>\n",
       "      <th>FiledAgainst</th>\n",
       "      <th>TicketType</th>\n",
       "      <th>Severity</th>\n",
       "      <th>daysOpen</th>\n",
       "    </tr>\n",
       "  </thead>\n",
       "  <tbody>\n",
       "    <tr>\n",
       "      <th>ticket</th>\n",
       "      <td>1.000000</td>\n",
       "      <td>0.001995</td>\n",
       "      <td>0.002746</td>\n",
       "      <td>-0.000125</td>\n",
       "      <td>0.002924</td>\n",
       "      <td>-0.001218</td>\n",
       "      <td>0.001929</td>\n",
       "      <td>0.009040</td>\n",
       "    </tr>\n",
       "    <tr>\n",
       "      <th>requestor</th>\n",
       "      <td>0.001995</td>\n",
       "      <td>1.000000</td>\n",
       "      <td>-0.026898</td>\n",
       "      <td>-0.000664</td>\n",
       "      <td>-0.006143</td>\n",
       "      <td>0.002355</td>\n",
       "      <td>-0.000456</td>\n",
       "      <td>0.008615</td>\n",
       "    </tr>\n",
       "    <tr>\n",
       "      <th>RequestorSeniority</th>\n",
       "      <td>0.002746</td>\n",
       "      <td>-0.026898</td>\n",
       "      <td>1.000000</td>\n",
       "      <td>-0.005099</td>\n",
       "      <td>-0.003313</td>\n",
       "      <td>0.008534</td>\n",
       "      <td>-0.091305</td>\n",
       "      <td>0.008669</td>\n",
       "    </tr>\n",
       "    <tr>\n",
       "      <th>ITOwner</th>\n",
       "      <td>-0.000125</td>\n",
       "      <td>-0.000664</td>\n",
       "      <td>-0.005099</td>\n",
       "      <td>1.000000</td>\n",
       "      <td>-0.003295</td>\n",
       "      <td>-0.000807</td>\n",
       "      <td>-0.046127</td>\n",
       "      <td>0.020153</td>\n",
       "    </tr>\n",
       "    <tr>\n",
       "      <th>FiledAgainst</th>\n",
       "      <td>0.002924</td>\n",
       "      <td>-0.006143</td>\n",
       "      <td>-0.003313</td>\n",
       "      <td>-0.003295</td>\n",
       "      <td>1.000000</td>\n",
       "      <td>-0.002498</td>\n",
       "      <td>0.425029</td>\n",
       "      <td>-0.003273</td>\n",
       "    </tr>\n",
       "    <tr>\n",
       "      <th>TicketType</th>\n",
       "      <td>-0.001218</td>\n",
       "      <td>0.002355</td>\n",
       "      <td>0.008534</td>\n",
       "      <td>-0.000807</td>\n",
       "      <td>-0.002498</td>\n",
       "      <td>1.000000</td>\n",
       "      <td>0.245015</td>\n",
       "      <td>0.002988</td>\n",
       "    </tr>\n",
       "    <tr>\n",
       "      <th>Severity</th>\n",
       "      <td>0.001929</td>\n",
       "      <td>-0.000456</td>\n",
       "      <td>-0.091305</td>\n",
       "      <td>-0.046127</td>\n",
       "      <td>0.425029</td>\n",
       "      <td>0.245015</td>\n",
       "      <td>1.000000</td>\n",
       "      <td>-0.066719</td>\n",
       "    </tr>\n",
       "    <tr>\n",
       "      <th>daysOpen</th>\n",
       "      <td>0.009040</td>\n",
       "      <td>0.008615</td>\n",
       "      <td>0.008669</td>\n",
       "      <td>0.020153</td>\n",
       "      <td>-0.003273</td>\n",
       "      <td>0.002988</td>\n",
       "      <td>-0.066719</td>\n",
       "      <td>1.000000</td>\n",
       "    </tr>\n",
       "  </tbody>\n",
       "</table>\n",
       "</div>"
      ],
      "text/plain": [
       "                      ticket  requestor  RequestorSeniority   ITOwner  \\\n",
       "ticket              1.000000   0.001995            0.002746 -0.000125   \n",
       "requestor           0.001995   1.000000           -0.026898 -0.000664   \n",
       "RequestorSeniority  0.002746  -0.026898            1.000000 -0.005099   \n",
       "ITOwner            -0.000125  -0.000664           -0.005099  1.000000   \n",
       "FiledAgainst        0.002924  -0.006143           -0.003313 -0.003295   \n",
       "TicketType         -0.001218   0.002355            0.008534 -0.000807   \n",
       "Severity            0.001929  -0.000456           -0.091305 -0.046127   \n",
       "daysOpen            0.009040   0.008615            0.008669  0.020153   \n",
       "\n",
       "                    FiledAgainst  TicketType  Severity  daysOpen  \n",
       "ticket                  0.002924   -0.001218  0.001929  0.009040  \n",
       "requestor              -0.006143    0.002355 -0.000456  0.008615  \n",
       "RequestorSeniority     -0.003313    0.008534 -0.091305  0.008669  \n",
       "ITOwner                -0.003295   -0.000807 -0.046127  0.020153  \n",
       "FiledAgainst            1.000000   -0.002498  0.425029 -0.003273  \n",
       "TicketType             -0.002498    1.000000  0.245015  0.002988  \n",
       "Severity                0.425029    0.245015  1.000000 -0.066719  \n",
       "daysOpen               -0.003273    0.002988 -0.066719  1.000000  "
      ]
     },
     "execution_count": 40,
     "metadata": {},
     "output_type": "execute_result"
    }
   ],
   "source": [
    "X_train.corr()"
   ]
  },
  {
   "cell_type": "code",
   "execution_count": 41,
   "metadata": {},
   "outputs": [
    {
     "data": {
      "text/plain": [
       "<AxesSubplot:>"
      ]
     },
     "execution_count": 41,
     "metadata": {},
     "output_type": "execute_result"
    },
    {
     "data": {
      "image/png": "[encoded data removed]",
      "text/plain": [
       "<Figure size 648x288 with 2 Axes>"
      ]
     },
     "metadata": {
      "needs_background": "light"
     },
     "output_type": "display_data"
    }
   ],
   "source": [
    "import seaborn as sns\n",
    "corr=X_train.corr()\n",
    "top_features=corr.index\n",
    "plt.figure(figsize=(9,4))\n",
    "sns.heatmap(X_train[top_features].corr(),annot=True)\n"
   ]
  },
  {
   "cell_type": "code",
   "execution_count": 42,
   "metadata": {},
   "outputs": [],
   "source": [
    "threshold=0.7"
   ]
  },
  {
   "cell_type": "code",
   "execution_count": 43,
   "metadata": {},
   "outputs": [],
   "source": [
    "# find and remove correlated features\n",
    "def correlation(dataset, threshold):\n",
    "    col_corr = set()  # Set of all the names of correlated columns\n",
    "    corr_matrix = dataset.corr()\n",
    "    for i in range(len(corr_matrix.columns)):\n",
    "        for j in range(i):\n",
    "            if abs(corr_matrix.iloc[i, j]) > threshold: # we are interested in absolute coeff value\n",
    "                colname = corr_matrix.columns[i]  # getting the name of column\n",
    "                col_corr.add(colname)\n",
    "    return col_corr"
   ]
  },
  {
   "cell_type": "code",
   "execution_count": 44,
   "metadata": {},
   "outputs": [
    {
     "data": {
      "text/plain": [
       "set()"
      ]
     },
     "execution_count": 44,
     "metadata": {},
     "output_type": "execute_result"
    }
   ],
   "source": [
    "correlation(X_train,threshold)"
   ]
  },
  {
   "cell_type": "markdown",
   "metadata": {},
   "source": [
    "#### Pipeline Creation"
   ]
  },
  {
   "cell_type": "code",
   "execution_count": 45,
   "metadata": {},
   "outputs": [],
   "source": [
    "from sklearn.datasets import load_iris\n",
    "from sklearn.model_selection import train_test_split\n",
    "from sklearn.preprocessing import StandardScaler\n",
    "from sklearn.decomposition import PCA\n",
    "from sklearn.pipeline import Pipeline\n",
    "from sklearn.linear_model import LogisticRegression\n",
    "from sklearn.tree import DecisionTreeClassifier\n",
    "from sklearn.ensemble import RandomForestClassifier\n",
    "from sklearn.ensemble import GradientBoostingClassifier\n",
    "from sklearn.neighbors import KNeighborsClassifier\n",
    "##from xgboost import XGBClassifier\n",
    "from sklearn.ensemble import AdaBoostClassifier"
   ]
  },
  {
   "cell_type": "code",
   "execution_count": 46,
   "metadata": {},
   "outputs": [],
   "source": [
    "pipeline_lr=Pipeline([('scalar1',RobustScaler()),\n",
    "                     ('pca1',PCA(n_components=2)),\n",
    "                     ('lr_classifier',LogisticRegression(random_state=0))])"
   ]
  },
  {
   "cell_type": "code",
   "execution_count": 47,
   "metadata": {},
   "outputs": [],
   "source": [
    "pipeline_dt=Pipeline([('scalar2',RobustScaler()),\n",
    "                     ('pca2',PCA(n_components=2)),\n",
    "                     ('dt_classifier',DecisionTreeClassifier())])"
   ]
  },
  {
   "cell_type": "code",
   "execution_count": 48,
   "metadata": {},
   "outputs": [],
   "source": [
    "pipeline_randomforest=Pipeline([('scalar3',RobustScaler()),\n",
    "                     ('pca3',PCA(n_components=2)),\n",
    "                     ('rf_classifier',RandomForestClassifier())])"
   ]
  },
  {
   "cell_type": "code",
   "execution_count": 49,
   "metadata": {},
   "outputs": [],
   "source": [
    "pipeline_gradient_boost=Pipeline([('scalar4',RobustScaler()),\n",
    "                     ('pca4',PCA(n_components=2)),\n",
    "                     ('gb_classifier',GradientBoostingClassifier())])"
   ]
  },
  {
   "cell_type": "code",
   "execution_count": 50,
   "metadata": {},
   "outputs": [],
   "source": [
    "pipeline_Adaboost=Pipeline([('scalar5',RobustScaler()),\n",
    "                          ('pca5',PCA(n_components=2)),\n",
    "                          ('xgb_classifier',AdaBoostClassifier())])"
   ]
  },
  {
   "cell_type": "code",
   "execution_count": 51,
   "metadata": {},
   "outputs": [],
   "source": [
    "pipeline_knn=Pipeline([('scalar6',RobustScaler()),\n",
    "                          ('pca6',PCA(n_components=2)),\n",
    "                          ('knn_classifier',KNeighborsClassifier())])"
   ]
  },
  {
   "cell_type": "code",
   "execution_count": 52,
   "metadata": {},
   "outputs": [],
   "source": [
    "## LEts make the list of pipelines\n",
    "pipelines = [pipeline_lr, pipeline_dt, pipeline_randomforest,pipeline_gradient_boost,pipeline_Adaboost, pipeline_knn]"
   ]
  },
  {
   "cell_type": "code",
   "execution_count": 53,
   "metadata": {},
   "outputs": [],
   "source": [
    "best_accuracy=0.0\n",
    "best_classifier=0\n",
    "best_pipeline=\"\""
   ]
  },
  {
   "cell_type": "markdown",
   "metadata": {},
   "source": [
    "#### For `Target` Label Category"
   ]
  },
  {
   "cell_type": "code",
   "execution_count": 54,
   "metadata": {},
   "outputs": [],
   "source": [
    "# Dictionary of pipelines and classifier types for ease of reference\n",
    "pipe_dict = {0: 'Logistic Regression', 1: 'Decision Tree', 2: 'RandomForest', 3: 'Gradient Boost', 4: 'Ada Boost', 5: 'KNN'}\n",
    "\n",
    "# Fit the pipelines\n",
    "for pipe in pipelines:\n",
    "\tpipe.fit(X_train,Y_train[\"Priority\"])"
   ]
  },
  {
   "cell_type": "code",
   "execution_count": 55,
   "metadata": {},
   "outputs": [
    {
     "name": "stdout",
     "output_type": "stream",
     "text": [
      "Logistic Regression Accuracy: 0.30964\n",
      "Decision Tree Accuracy: 1.0\n",
      "RandomForest Accuracy: 0.9999866666666667\n",
      "Gradient Boost Accuracy: 0.36012\n",
      "Ada Boost Accuracy: 0.34037333333333336\n",
      "KNN Accuracy: 0.54956\n"
     ]
    }
   ],
   "source": [
    "for i,model in enumerate(pipelines):\n",
    "    print(\"{} Accuracy: {}\".format(pipe_dict[i],model.score(X_train,Y_train[\"Priority\"])))"
   ]
  },
  {
   "cell_type": "markdown",
   "metadata": {},
   "source": [
    "#### Hyper Parameter Tuning"
   ]
  },
  {
   "cell_type": "code",
   "execution_count": 56,
   "metadata": {},
   "outputs": [],
   "source": [
    "gradient_grid = {\n",
    "               'max_depth': [8, 10, 20, 30, 40, 50, 60, 70, 80, 90, 100, 110, 120, 150, None],\n",
    "               'max_features': ['auto', 'sqrt'],\n",
    "               'min_samples_leaf': [10, 20, 40, 50, 60, 70, 80, 90],\n",
    "               'min_samples_split': [200, 500, 800, 1000]\n",
    "               }"
   ]
  },
  {
   "cell_type": "code",
   "execution_count": 57,
   "metadata": {},
   "outputs": [],
   "source": [
    "from sklearn.model_selection import RandomizedSearchCV"
   ]
  },
  {
   "cell_type": "code",
   "execution_count": 58,
   "metadata": {},
   "outputs": [],
   "source": [
    "from sklearn.ensemble import GradientBoostingClassifier\n",
    "gb = GradientBoostingClassifier()\n",
    "# Random search of parameters, using 3 fold cross validation, \n",
    "# search across 100 different combinations, and use all available cores\n",
    "gb_random = RandomizedSearchCV(estimator = gb, \n",
    "                               param_distributions = gradient_grid, \n",
    "                               n_iter = 2, \n",
    "                               cv =2, \n",
    "                               verbose=2, \n",
    "                               random_state=42)\n"
   ]
  },
  {
   "cell_type": "code",
   "execution_count": 59,
   "metadata": {},
   "outputs": [
    {
     "name": "stdout",
     "output_type": "stream",
     "text": [
      "Fitting 2 folds for each of 2 candidates, totalling 4 fits\n",
      "[CV] END max_depth=10, max_features=sqrt, min_samples_leaf=20, min_samples_split=800; total time=  31.1s\n",
      "[CV] END max_depth=10, max_features=sqrt, min_samples_leaf=20, min_samples_split=800; total time=  34.5s\n",
      "[CV] END max_depth=60, max_features=sqrt, min_samples_leaf=60, min_samples_split=1000; total time=  38.0s\n",
      "[CV] END max_depth=60, max_features=sqrt, min_samples_leaf=60, min_samples_split=1000; total time=  36.9s\n"
     ]
    },
    {
     "data": {
      "text/plain": [
       "RandomizedSearchCV(cv=2, estimator=GradientBoostingClassifier(), n_iter=2,\n",
       "                   param_distributions={'max_depth': [8, 10, 20, 30, 40, 50, 60,\n",
       "                                                      70, 80, 90, 100, 110, 120,\n",
       "                                                      150, None],\n",
       "                                        'max_features': ['auto', 'sqrt'],\n",
       "                                        'min_samples_leaf': [10, 20, 40, 50, 60,\n",
       "                                                             70, 80, 90],\n",
       "                                        'min_samples_split': [200, 500, 800,\n",
       "                                                              1000]},\n",
       "                   random_state=42, verbose=2)"
      ]
     },
     "execution_count": 59,
     "metadata": {},
     "output_type": "execute_result"
    }
   ],
   "source": [
    "# Fit the random search model\n",
    "gb_random.fit(X_train, Y_train)"
   ]
  },
  {
   "cell_type": "code",
   "execution_count": 60,
   "metadata": {},
   "outputs": [
    {
     "data": {
      "text/plain": [
       "{'min_samples_split': 800,\n",
       " 'min_samples_leaf': 20,\n",
       " 'max_features': 'sqrt',\n",
       " 'max_depth': 10}"
      ]
     },
     "execution_count": 60,
     "metadata": {},
     "output_type": "execute_result"
    }
   ],
   "source": [
    "gb_random.best_params_"
   ]
  },
  {
   "cell_type": "code",
   "execution_count": 61,
   "metadata": {},
   "outputs": [],
   "source": [
    "best_random_grid=gb_random.best_estimator_"
   ]
  },
  {
   "cell_type": "code",
   "execution_count": 62,
   "metadata": {},
   "outputs": [],
   "source": [
    "from sklearn.metrics import accuracy_score\n",
    "from sklearn.metrics import confusion_matrix,classification_report,accuracy_score\n",
    "y_pred_random=best_random_grid.predict(X_test)\n"
   ]
  },
  {
   "cell_type": "code",
   "execution_count": 63,
   "metadata": {},
   "outputs": [
    {
     "name": "stdout",
     "output_type": "stream",
     "text": [
      "              precision    recall  f1-score   support\n",
      "\n",
      "           0       1.00      1.00      1.00      7598\n",
      "           1       1.00      1.00      1.00      5278\n",
      "           2       1.00      1.00      1.00      4783\n",
      "           3       1.00      1.00      1.00      7341\n",
      "\n",
      "    accuracy                           1.00     25000\n",
      "   macro avg       1.00      1.00      1.00     25000\n",
      "weighted avg       1.00      1.00      1.00     25000\n",
      "\n"
     ]
    }
   ],
   "source": [
    "print(classification_report(Y_test, y_pred_random))"
   ]
  },
  {
   "cell_type": "markdown",
   "metadata": {},
   "source": [
    "### Grid Search"
   ]
  },
  {
   "cell_type": "code",
   "execution_count": 64,
   "metadata": {},
   "outputs": [
    {
     "name": "stdout",
     "output_type": "stream",
     "text": [
      "{'min_samples_split': [760, 800, 840], 'min_samples_leaf': [10, 20, 30], 'max_features': ['sqrt'], 'max_depth': [0, 10, 20]}\n"
     ]
    }
   ],
   "source": [
    "from sklearn.model_selection import GridSearchCV\n",
    "\n",
    "param_grid = {\n",
    "    'min_samples_split': [gb_random.best_params_['min_samples_split'] - 40, \n",
    "    gb_random.best_params_['min_samples_split'], \n",
    "    gb_random.best_params_['min_samples_split'] + 40], \n",
    "\n",
    "    'min_samples_leaf': [gb_random.best_params_['min_samples_leaf'] - 10, \n",
    "    gb_random.best_params_['min_samples_leaf'], \n",
    "    gb_random.best_params_['min_samples_leaf'] + 10], \n",
    "\n",
    "    'max_features': [gb_random.best_params_['max_features']],\n",
    "\n",
    "    'max_depth': [gb_random.best_params_['max_depth'] - 10,\n",
    "    gb_random.best_params_['max_depth'],\n",
    "    gb_random.best_params_['max_depth'] + 10 ]                                                                                            \n",
    "}\n",
    "\n",
    "print(param_grid)"
   ]
  },
  {
   "cell_type": "code",
   "execution_count": 65,
   "metadata": {},
   "outputs": [
    {
     "name": "stdout",
     "output_type": "stream",
     "text": [
      "Fitting 3 folds for each of 27 candidates, totalling 81 fits\n",
      "[CV] END max_depth=0, max_features=sqrt, min_samples_leaf=10, min_samples_split=760; total time=   0.0s\n",
      "[CV] END max_depth=0, max_features=sqrt, min_samples_leaf=10, min_samples_split=760; total time=   0.0s\n",
      "[CV] END max_depth=0, max_features=sqrt, min_samples_leaf=10, min_samples_split=760; total time=   0.0s\n",
      "[CV] END max_depth=0, max_features=sqrt, min_samples_leaf=10, min_samples_split=800; total time=   0.0s\n",
      "[CV] END max_depth=0, max_features=sqrt, min_samples_leaf=10, min_samples_split=800; total time=   0.0s\n",
      "[CV] END max_depth=0, max_features=sqrt, min_samples_leaf=10, min_samples_split=800; total time=   0.0s\n",
      "[CV] END max_depth=0, max_features=sqrt, min_samples_leaf=10, min_samples_split=840; total time=   0.0s\n",
      "[CV] END max_depth=0, max_features=sqrt, min_samples_leaf=10, min_samples_split=840; total time=   0.0s\n",
      "[CV] END max_depth=0, max_features=sqrt, min_samples_leaf=10, min_samples_split=840; total time=   0.0s\n",
      "[CV] END max_depth=0, max_features=sqrt, min_samples_leaf=20, min_samples_split=760; total time=   0.0s\n",
      "[CV] END max_depth=0, max_features=sqrt, min_samples_leaf=20, min_samples_split=760; total time=   0.0s\n",
      "[CV] END max_depth=0, max_features=sqrt, min_samples_leaf=20, min_samples_split=760; total time=   0.0s\n",
      "[CV] END max_depth=0, max_features=sqrt, min_samples_leaf=20, min_samples_split=800; total time=   0.0s\n",
      "[CV] END max_depth=0, max_features=sqrt, min_samples_leaf=20, min_samples_split=800; total time=   0.0s\n",
      "[CV] END max_depth=0, max_features=sqrt, min_samples_leaf=20, min_samples_split=800; total time=   0.0s\n",
      "[CV] END max_depth=0, max_features=sqrt, min_samples_leaf=20, min_samples_split=840; total time=   0.0s\n",
      "[CV] END max_depth=0, max_features=sqrt, min_samples_leaf=20, min_samples_split=840; total time=   0.0s\n",
      "[CV] END max_depth=0, max_features=sqrt, min_samples_leaf=20, min_samples_split=840; total time=   0.0s\n",
      "[CV] END max_depth=0, max_features=sqrt, min_samples_leaf=30, min_samples_split=760; total time=   0.0s\n",
      "[CV] END max_depth=0, max_features=sqrt, min_samples_leaf=30, min_samples_split=760; total time=   0.0s\n",
      "[CV] END max_depth=0, max_features=sqrt, min_samples_leaf=30, min_samples_split=760; total time=   0.0s\n",
      "[CV] END max_depth=0, max_features=sqrt, min_samples_leaf=30, min_samples_split=800; total time=   0.0s\n",
      "[CV] END max_depth=0, max_features=sqrt, min_samples_leaf=30, min_samples_split=800; total time=   0.0s\n",
      "[CV] END max_depth=0, max_features=sqrt, min_samples_leaf=30, min_samples_split=800; total time=   0.0s\n",
      "[CV] END max_depth=0, max_features=sqrt, min_samples_leaf=30, min_samples_split=840; total time=   0.0s\n",
      "[CV] END max_depth=0, max_features=sqrt, min_samples_leaf=30, min_samples_split=840; total time=   0.0s\n",
      "[CV] END max_depth=0, max_features=sqrt, min_samples_leaf=30, min_samples_split=840; total time=   0.0s\n",
      "[CV] END max_depth=10, max_features=sqrt, min_samples_leaf=10, min_samples_split=760; total time=  44.8s\n",
      "[CV] END max_depth=10, max_features=sqrt, min_samples_leaf=10, min_samples_split=760; total time=  42.6s\n",
      "[CV] END max_depth=10, max_features=sqrt, min_samples_leaf=10, min_samples_split=760; total time=  45.0s\n",
      "[CV] END max_depth=10, max_features=sqrt, min_samples_leaf=10, min_samples_split=800; total time=  39.9s\n",
      "[CV] END max_depth=10, max_features=sqrt, min_samples_leaf=10, min_samples_split=800; total time=  41.5s\n",
      "[CV] END max_depth=10, max_features=sqrt, min_samples_leaf=10, min_samples_split=800; total time=  41.0s\n",
      "[CV] END max_depth=10, max_features=sqrt, min_samples_leaf=10, min_samples_split=840; total time=  40.8s\n",
      "[CV] END max_depth=10, max_features=sqrt, min_samples_leaf=10, min_samples_split=840; total time=  48.2s\n",
      "[CV] END max_depth=10, max_features=sqrt, min_samples_leaf=10, min_samples_split=840; total time=  46.6s\n",
      "[CV] END max_depth=10, max_features=sqrt, min_samples_leaf=20, min_samples_split=760; total time=  42.6s\n",
      "[CV] END max_depth=10, max_features=sqrt, min_samples_leaf=20, min_samples_split=760; total time=  42.4s\n",
      "[CV] END max_depth=10, max_features=sqrt, min_samples_leaf=20, min_samples_split=760; total time=  42.4s\n",
      "[CV] END max_depth=10, max_features=sqrt, min_samples_leaf=20, min_samples_split=800; total time=  41.2s\n",
      "[CV] END max_depth=10, max_features=sqrt, min_samples_leaf=20, min_samples_split=800; total time=  41.1s\n",
      "[CV] END max_depth=10, max_features=sqrt, min_samples_leaf=20, min_samples_split=800; total time=  44.7s\n",
      "[CV] END max_depth=10, max_features=sqrt, min_samples_leaf=20, min_samples_split=840; total time= 1.0min\n",
      "[CV] END max_depth=10, max_features=sqrt, min_samples_leaf=20, min_samples_split=840; total time=  45.1s\n",
      "[CV] END max_depth=10, max_features=sqrt, min_samples_leaf=20, min_samples_split=840; total time=  41.0s\n",
      "[CV] END max_depth=10, max_features=sqrt, min_samples_leaf=30, min_samples_split=760; total time=  40.8s\n",
      "[CV] END max_depth=10, max_features=sqrt, min_samples_leaf=30, min_samples_split=760; total time=  41.2s\n",
      "[CV] END max_depth=10, max_features=sqrt, min_samples_leaf=30, min_samples_split=760; total time=  41.0s\n",
      "[CV] END max_depth=10, max_features=sqrt, min_samples_leaf=30, min_samples_split=800; total time=  39.8s\n",
      "[CV] END max_depth=10, max_features=sqrt, min_samples_leaf=30, min_samples_split=800; total time=  39.6s\n",
      "[CV] END max_depth=10, max_features=sqrt, min_samples_leaf=30, min_samples_split=800; total time=  40.6s\n",
      "[CV] END max_depth=10, max_features=sqrt, min_samples_leaf=30, min_samples_split=840; total time=  48.8s\n",
      "[CV] END max_depth=10, max_features=sqrt, min_samples_leaf=30, min_samples_split=840; total time=  54.3s\n",
      "[CV] END max_depth=10, max_features=sqrt, min_samples_leaf=30, min_samples_split=840; total time=  54.4s\n",
      "[CV] END max_depth=20, max_features=sqrt, min_samples_leaf=10, min_samples_split=760; total time= 1.0min\n",
      "[CV] END max_depth=20, max_features=sqrt, min_samples_leaf=10, min_samples_split=760; total time= 1.2min\n",
      "[CV] END max_depth=20, max_features=sqrt, min_samples_leaf=10, min_samples_split=760; total time=  49.7s\n",
      "[CV] END max_depth=20, max_features=sqrt, min_samples_leaf=10, min_samples_split=800; total time= 1.1min\n",
      "[CV] END max_depth=20, max_features=sqrt, min_samples_leaf=10, min_samples_split=800; total time=  56.0s\n",
      "[CV] END max_depth=20, max_features=sqrt, min_samples_leaf=10, min_samples_split=800; total time= 1.4min\n",
      "[CV] END max_depth=20, max_features=sqrt, min_samples_leaf=10, min_samples_split=840; total time= 1.1min\n",
      "[CV] END max_depth=20, max_features=sqrt, min_samples_leaf=10, min_samples_split=840; total time= 1.5min\n",
      "[CV] END max_depth=20, max_features=sqrt, min_samples_leaf=10, min_samples_split=840; total time= 1.5min\n",
      "[CV] END max_depth=20, max_features=sqrt, min_samples_leaf=20, min_samples_split=760; total time=  52.8s\n",
      "[CV] END max_depth=20, max_features=sqrt, min_samples_leaf=20, min_samples_split=760; total time=  52.4s\n",
      "[CV] END max_depth=20, max_features=sqrt, min_samples_leaf=20, min_samples_split=760; total time=  52.8s\n",
      "[CV] END max_depth=20, max_features=sqrt, min_samples_leaf=20, min_samples_split=800; total time=  51.5s\n",
      "[CV] END max_depth=20, max_features=sqrt, min_samples_leaf=20, min_samples_split=800; total time=  50.7s\n",
      "[CV] END max_depth=20, max_features=sqrt, min_samples_leaf=20, min_samples_split=800; total time=  48.9s\n",
      "[CV] END max_depth=20, max_features=sqrt, min_samples_leaf=20, min_samples_split=840; total time=  49.9s\n",
      "[CV] END max_depth=20, max_features=sqrt, min_samples_leaf=20, min_samples_split=840; total time=  50.2s\n",
      "[CV] END max_depth=20, max_features=sqrt, min_samples_leaf=20, min_samples_split=840; total time=  48.6s\n",
      "[CV] END max_depth=20, max_features=sqrt, min_samples_leaf=30, min_samples_split=760; total time=  50.0s\n",
      "[CV] END max_depth=20, max_features=sqrt, min_samples_leaf=30, min_samples_split=760; total time=  52.1s\n",
      "[CV] END max_depth=20, max_features=sqrt, min_samples_leaf=30, min_samples_split=760; total time=  48.8s\n",
      "[CV] END max_depth=20, max_features=sqrt, min_samples_leaf=30, min_samples_split=800; total time=  50.9s\n",
      "[CV] END max_depth=20, max_features=sqrt, min_samples_leaf=30, min_samples_split=800; total time=  45.4s\n",
      "[CV] END max_depth=20, max_features=sqrt, min_samples_leaf=30, min_samples_split=800; total time=  48.2s\n",
      "[CV] END max_depth=20, max_features=sqrt, min_samples_leaf=30, min_samples_split=840; total time=  49.8s\n",
      "[CV] END max_depth=20, max_features=sqrt, min_samples_leaf=30, min_samples_split=840; total time=  48.8s\n",
      "[CV] END max_depth=20, max_features=sqrt, min_samples_leaf=30, min_samples_split=840; total time=  48.7s\n"
     ]
    },
    {
     "data": {
      "text/plain": [
       "GridSearchCV(cv=3,\n",
       "             estimator=GradientBoostingClassifier(max_depth=10,\n",
       "                                                  max_features='sqrt',\n",
       "                                                  min_samples_leaf=20,\n",
       "                                                  min_samples_split=800),\n",
       "             param_grid={'max_depth': [0, 10, 20], 'max_features': ['sqrt'],\n",
       "                         'min_samples_leaf': [10, 20, 30],\n",
       "                         'min_samples_split': [760, 800, 840]},\n",
       "             verbose=2)"
      ]
     },
     "execution_count": 65,
     "metadata": {},
     "output_type": "execute_result"
    }
   ],
   "source": [
    "grid_search=GridSearchCV(estimator=best_random_grid,param_grid=param_grid,cv=3,verbose=2)\n",
    "grid_search.fit(X_train,Y_train)"
   ]
  },
  {
   "cell_type": "code",
   "execution_count": 66,
   "metadata": {},
   "outputs": [
    {
     "data": {
      "text/plain": [
       "GradientBoostingClassifier(max_depth=10, max_features='sqrt',\n",
       "                           min_samples_leaf=10, min_samples_split=760)"
      ]
     },
     "execution_count": 66,
     "metadata": {},
     "output_type": "execute_result"
    }
   ],
   "source": [
    "grid_search.best_estimator_"
   ]
  },
  {
   "cell_type": "code",
   "execution_count": 67,
   "metadata": {},
   "outputs": [],
   "source": [
    "best_grid=grid_search.best_estimator_"
   ]
  },
  {
   "cell_type": "code",
   "execution_count": 68,
   "metadata": {},
   "outputs": [
    {
     "name": "stdout",
     "output_type": "stream",
     "text": [
      "GradientBoostingClassifier(max_depth=10, max_features='sqrt',\n",
      "                           min_samples_leaf=10, min_samples_split=760)\n"
     ]
    }
   ],
   "source": [
    "print(best_grid)"
   ]
  },
  {
   "cell_type": "code",
   "execution_count": 69,
   "metadata": {},
   "outputs": [],
   "source": [
    "y_pred_grid=best_grid.predict(X_test)"
   ]
  },
  {
   "cell_type": "code",
   "execution_count": 70,
   "metadata": {},
   "outputs": [],
   "source": [
    "y_pred_grid=pd.DataFrame(y_pred_grid)"
   ]
  },
  {
   "cell_type": "markdown",
   "metadata": {},
   "source": [
    "#### Classification Report "
   ]
  },
  {
   "cell_type": "code",
   "execution_count": 71,
   "metadata": {},
   "outputs": [],
   "source": [
    "from sklearn.metrics import accuracy_score, confusion_matrix, classification_report, roc_auc_score"
   ]
  },
  {
   "cell_type": "code",
   "execution_count": 72,
   "metadata": {},
   "outputs": [
    {
     "name": "stdout",
     "output_type": "stream",
     "text": [
      "              precision    recall  f1-score   support\n",
      "\n",
      "           0       1.00      1.00      1.00      7598\n",
      "           1       1.00      1.00      1.00      5278\n",
      "           2       1.00      1.00      1.00      4783\n",
      "           3       1.00      1.00      1.00      7341\n",
      "\n",
      "    accuracy                           1.00     25000\n",
      "   macro avg       1.00      1.00      1.00     25000\n",
      "weighted avg       1.00      1.00      1.00     25000\n",
      "\n"
     ]
    }
   ],
   "source": [
    "print(classification_report(Y_test, y_pred_grid))"
   ]
  },
  {
   "cell_type": "code",
   "execution_count": 73,
   "metadata": {},
   "outputs": [
    {
     "name": "stdout",
     "output_type": "stream",
     "text": [
      "0    7598\n",
      "3    7341\n",
      "1    5278\n",
      "2    4783\n",
      "dtype: int64\n"
     ]
    }
   ],
   "source": [
    "print(y_pred_grid.value_counts())"
   ]
  },
  {
   "cell_type": "code",
   "execution_count": 74,
   "metadata": {},
   "outputs": [],
   "source": [
    "y_pred_grid.rename(columns={0:\"Predict_grid\"}, inplace=True)"
   ]
  },
  {
   "cell_type": "code",
   "execution_count": 75,
   "metadata": {},
   "outputs": [
    {
     "name": "stdout",
     "output_type": "stream",
     "text": [
      "0    7598\n",
      "3    7341\n",
      "1    5278\n",
      "2    4783\n",
      "dtype: int64\n"
     ]
    }
   ],
   "source": [
    "y_pred_random = pd.DataFrame(y_pred_random)\n",
    "print(y_pred_random.value_counts())"
   ]
  },
  {
   "cell_type": "code",
   "execution_count": 76,
   "metadata": {},
   "outputs": [],
   "source": [
    "y_pred_random.rename(columns={0:\"Predict_random\"}, inplace=True)"
   ]
  },
  {
   "cell_type": "code",
   "execution_count": 77,
   "metadata": {},
   "outputs": [
    {
     "name": "stdout",
     "output_type": "stream",
     "text": [
      "(25000, 8) (25000, 1)\n"
     ]
    }
   ],
   "source": [
    "print(X_test.shape, y_pred_grid.shape)"
   ]
  },
  {
   "cell_type": "code",
   "execution_count": 78,
   "metadata": {},
   "outputs": [],
   "source": [
    "y_pred_grid = pd.DataFrame(y_pred_grid)"
   ]
  },
  {
   "cell_type": "code",
   "execution_count": 79,
   "metadata": {},
   "outputs": [
    {
     "data": {
      "text/plain": [
       "Predict_grid\n",
       "0               7598\n",
       "3               7341\n",
       "1               5278\n",
       "2               4783\n",
       "dtype: int64"
      ]
     },
     "execution_count": 79,
     "metadata": {},
     "output_type": "execute_result"
    }
   ],
   "source": [
    "y_pred_grid.value_counts()"
   ]
  },
  {
   "cell_type": "code",
   "execution_count": 80,
   "metadata": {},
   "outputs": [
    {
     "data": {
      "text/plain": [
       "Predict_random\n",
       "0                 7598\n",
       "3                 7341\n",
       "1                 5278\n",
       "2                 4783\n",
       "dtype: int64"
      ]
     },
     "execution_count": 80,
     "metadata": {},
     "output_type": "execute_result"
    }
   ],
   "source": [
    "y_pred_random.value_counts()"
   ]
  },
  {
   "cell_type": "code",
   "execution_count": 81,
   "metadata": {},
   "outputs": [
    {
     "name": "stdout",
     "output_type": "stream",
     "text": [
      "[[7598    0    0    0]\n",
      " [   0 5278    0    0]\n",
      " [   0    0 4783    0]\n",
      " [   0    0    0 7341]]\n"
     ]
    }
   ],
   "source": [
    "print(confusion_matrix(Y_test, y_pred_grid))"
   ]
  },
  {
   "cell_type": "code",
   "execution_count": 82,
   "metadata": {},
   "outputs": [
    {
     "name": "stdout",
     "output_type": "stream",
     "text": [
      "[[7598    0    0    0]\n",
      " [   0 5278    0    0]\n",
      " [   0    0 4783    0]\n",
      " [   0    0    0 7341]]\n"
     ]
    }
   ],
   "source": [
    "print(confusion_matrix(Y_test, y_pred_random))"
   ]
  },
  {
   "cell_type": "code",
   "execution_count": 83,
   "metadata": {},
   "outputs": [],
   "source": [
    "c = test.Priority.astype('category')\n",
    "d = dict(enumerate(c.cat.categories))"
   ]
  },
  {
   "cell_type": "code",
   "execution_count": 84,
   "metadata": {},
   "outputs": [
    {
     "name": "stdout",
     "output_type": "stream",
     "text": [
      "{0: '0 - Unassigned', 1: '1 - Low', 2: '2 - Medium', 3: '3 - High'}\n"
     ]
    }
   ],
   "source": [
    "print(d)"
   ]
  },
  {
   "cell_type": "code",
   "execution_count": 85,
   "metadata": {},
   "outputs": [],
   "source": [
    "y_pred_grid = y_pred_grid[\"Predict_grid\"].map(d)"
   ]
  },
  {
   "cell_type": "code",
   "execution_count": 86,
   "metadata": {},
   "outputs": [
    {
     "data": {
      "text/plain": [
       "0 - Unassigned    7598\n",
       "3 - High          7341\n",
       "1 - Low           5278\n",
       "2 - Medium        4783\n",
       "Name: Predict_grid, dtype: int64"
      ]
     },
     "execution_count": 86,
     "metadata": {},
     "output_type": "execute_result"
    }
   ],
   "source": [
    "y_pred_grid.value_counts()\n"
   ]
  },
  {
   "cell_type": "code",
   "execution_count": 87,
   "metadata": {},
   "outputs": [],
   "source": [
    "y_pred_random = y_pred_random[\"Predict_random\"].map(d)"
   ]
  },
  {
   "cell_type": "code",
   "execution_count": 88,
   "metadata": {},
   "outputs": [
    {
     "data": {
      "text/plain": [
       "0 - Unassigned    7598\n",
       "3 - High          7341\n",
       "1 - Low           5278\n",
       "2 - Medium        4783\n",
       "Name: Predict_random, dtype: int64"
      ]
     },
     "execution_count": 88,
     "metadata": {},
     "output_type": "execute_result"
    }
   ],
   "source": [
    "y_pred_random.value_counts()"
   ]
  },
  {
   "cell_type": "code",
   "execution_count": 89,
   "metadata": {},
   "outputs": [],
   "source": [
    "y_pred_random = pd.DataFrame(y_pred_random)"
   ]
  },
  {
   "cell_type": "code",
   "execution_count": 90,
   "metadata": {},
   "outputs": [
    {
     "data": {
      "text/plain": [
       "Predict_random\n",
       "0 - Unassigned    7598\n",
       "3 - High          7341\n",
       "1 - Low           5278\n",
       "2 - Medium        4783\n",
       "dtype: int64"
      ]
     },
     "execution_count": 90,
     "metadata": {},
     "output_type": "execute_result"
    }
   ],
   "source": [
    "y_pred_random.value_counts()"
   ]
  },
  {
   "cell_type": "code",
   "execution_count": 91,
   "metadata": {},
   "outputs": [],
   "source": [
    "bw = y_pred_random.value_counts()"
   ]
  },
  {
   "cell_type": "code",
   "execution_count": 92,
   "metadata": {},
   "outputs": [
    {
     "data": {
      "image/png": "[encoded data removed]",
      "text/plain": [
       "<Figure size 800x480 with 1 Axes>"
      ]
     },
     "metadata": {},
     "output_type": "display_data"
    }
   ],
   "source": [
    "plt.figure(figsize=(10,6), dpi=80, facecolor='white')\n",
    "explode=(0.1, 0.1, 0.1, 0.3)\n",
    "bw.plot.pie(shadow=True, explode=explode, label=True)\n",
    "plt.title(\"Predictions Results\")\n",
    "plt.show()"
   ]
  },
  {
   "cell_type": "code",
   "execution_count": 93,
   "metadata": {},
   "outputs": [
    {
     "data": {
      "image/png": "[encoded data removed]",
      "text/plain": [
       "<Figure size 1008x360 with 1 Axes>"
      ]
     },
     "metadata": {
      "needs_background": "light"
     },
     "output_type": "display_data"
    }
   ],
   "source": [
    "dict = { \n",
    "'0 - Unassigned' :   7566,\n",
    "'3 - High'       :   7184,\n",
    "'1 - Low'        :   5318,\n",
    "'2 - Medium'     :   4932\n",
    "}\n",
    "\n",
    "names = list(dict.keys())\n",
    "values = list(dict.values())\n",
    "\n",
    "fig = plt.figure(figsize = (14, 5))\n",
    "\n",
    "plt.style.use(\"seaborn\")\n",
    "# creating the bar plot\n",
    "plt.bar(names, values, color ='maroon', width = 0.5)\n",
    "plt.show()\n"
   ]
  },
  {
   "cell_type": "markdown",
   "metadata": {},
   "source": [
    "### Optuna"
   ]
  },
  {
   "cell_type": "code",
   "execution_count": null,
   "metadata": {},
   "outputs": [],
   "source": [
    "###! pip install optuna"
   ]
  },
  {
   "cell_type": "code",
   "execution_count": 98,
   "metadata": {},
   "outputs": [],
   "source": [
    "import optuna\n",
    "import sklearn"
   ]
  },
  {
   "cell_type": "code",
   "execution_count": 99,
   "metadata": {},
   "outputs": [],
   "source": [
    "param_grid_optuna = {\n",
    "    \"bootstrap\": [True, False],\n",
    "    \"max_depth\": [10, 20, 30, 40, 50, 60, 70, 80, 90, 100, None],\n",
    "    \"max_features\": ['auto', 'sqrt'],\n",
    "    \"min_samples_leaf\": [1, 2, 4],\n",
    "    \"min_samples_split\": [2, 5, 10, 15],\n",
    "    \"n_estimators\": [200, 400, 600, 800, 1000, 1200, 1300, 1500]\n",
    "}"
   ]
  },
  {
   "cell_type": "code",
   "execution_count": 100,
   "metadata": {},
   "outputs": [],
   "source": [
    "from sklearn.model_selection import cross_val_score"
   ]
  },
  {
   "cell_type": "code",
   "execution_count": 103,
   "metadata": {},
   "outputs": [],
   "source": [
    "def objective(trial):\n",
    "    bootstrap = trial.suggest_categorical('bootstrap',[True, False])\n",
    "    max_depth = trial.suggest_int('max_depth', 10, 100)\n",
    "    max_features = trial.suggest_categorical('max_features', ['auto', 'sqrt'])\n",
    "    min_samples_leaf = trial.suggest_int('min_samples_leaf', 1, 4)\n",
    "    min_samples_split = trial.suggest_int('min_samples_split', 2, 15)\n",
    "    n_estimators =  trial.suggest_int('n_estimators', 200, 1500)\n",
    "    \n",
    "    clsr = RandomForestClassifier(bootstrap = bootstrap,\n",
    "                                 max_depth = max_depth, max_features = max_features,min_samples_leaf = min_samples_leaf,\n",
    "                                 min_samples_split = min_samples_split,n_estimators = n_estimators)\n",
    "    \n",
    "    \n",
    "    #regr.fit(X_train, y_train)\n",
    "    #y_pred = regr.predict(X_val)\n",
    "    #return r2_score(y_val, y_pred)\n",
    "    \n",
    "    score = cross_val_score(clsr, X_train, Y_train, cv=5)\n",
    "    meanvalue = score.mean()\n",
    "\n",
    "    return meanvalue"
   ]
  },
  {
   "cell_type": "code",
   "execution_count": 104,
   "metadata": {},
   "outputs": [
    {
     "name": "stderr",
     "output_type": "stream",
     "text": [
      "\u001b[32m[I 2022-11-24 20:25:14,645]\u001b[0m A new study created in memory with name: no-name-8495e566-ed79-4280-8be4-bd215377effe\u001b[0m\n",
      "\u001b[32m[I 2022-11-24 20:31:37,018]\u001b[0m Trial 0 finished with value: 0.9999866666666666 and parameters: {'bootstrap': True, 'max_depth': 91, 'max_features': 'sqrt', 'min_samples_leaf': 3, 'min_samples_split': 13, 'n_estimators': 859}. Best is trial 0 with value: 0.9999866666666666.\u001b[0m\n",
      "\u001b[32m[I 2022-11-24 20:35:26,370]\u001b[0m Trial 1 finished with value: 0.9999733333333334 and parameters: {'bootstrap': False, 'max_depth': 77, 'max_features': 'auto', 'min_samples_leaf': 3, 'min_samples_split': 4, 'n_estimators': 475}. Best is trial 0 with value: 0.9999866666666666.\u001b[0m\n",
      "\u001b[32m[I 2022-11-24 20:41:39,434]\u001b[0m Trial 2 finished with value: 0.9999866666666666 and parameters: {'bootstrap': True, 'max_depth': 71, 'max_features': 'sqrt', 'min_samples_leaf': 2, 'min_samples_split': 13, 'n_estimators': 1125}. Best is trial 0 with value: 0.9999866666666666.\u001b[0m\n",
      "\u001b[32m[I 2022-11-24 20:45:16,201]\u001b[0m Trial 3 finished with value: 1.0 and parameters: {'bootstrap': True, 'max_depth': 21, 'max_features': 'sqrt', 'min_samples_leaf': 2, 'min_samples_split': 6, 'n_estimators': 741}. Best is trial 3 with value: 1.0.\u001b[0m\n",
      "\u001b[32m[I 2022-11-24 20:50:38,363]\u001b[0m Trial 4 finished with value: 0.9999600000000001 and parameters: {'bootstrap': False, 'max_depth': 73, 'max_features': 'sqrt', 'min_samples_leaf': 4, 'min_samples_split': 3, 'n_estimators': 916}. Best is trial 3 with value: 1.0.\u001b[0m\n",
      "\u001b[32m[I 2022-11-24 20:53:29,205]\u001b[0m Trial 5 finished with value: 0.9999866666666666 and parameters: {'bootstrap': False, 'max_depth': 76, 'max_features': 'auto', 'min_samples_leaf': 2, 'min_samples_split': 11, 'n_estimators': 348}. Best is trial 3 with value: 1.0.\u001b[0m\n",
      "\u001b[32m[I 2022-11-24 20:57:27,009]\u001b[0m Trial 6 finished with value: 0.9999733333333334 and parameters: {'bootstrap': True, 'max_depth': 18, 'max_features': 'auto', 'min_samples_leaf': 4, 'min_samples_split': 15, 'n_estimators': 910}. Best is trial 3 with value: 1.0.\u001b[0m\n",
      "\u001b[32m[I 2022-11-24 21:03:26,845]\u001b[0m Trial 7 finished with value: 0.9999733333333334 and parameters: {'bootstrap': True, 'max_depth': 95, 'max_features': 'auto', 'min_samples_leaf': 4, 'min_samples_split': 9, 'n_estimators': 1420}. Best is trial 3 with value: 1.0.\u001b[0m\n",
      "\u001b[32m[I 2022-11-24 21:12:34,688]\u001b[0m Trial 8 finished with value: 0.9999866666666666 and parameters: {'bootstrap': True, 'max_depth': 78, 'max_features': 'auto', 'min_samples_leaf': 2, 'min_samples_split': 14, 'n_estimators': 1209}. Best is trial 3 with value: 1.0.\u001b[0m\n",
      "\u001b[32m[I 2022-11-24 21:21:41,120]\u001b[0m Trial 9 finished with value: 0.9999866666666666 and parameters: {'bootstrap': False, 'max_depth': 72, 'max_features': 'auto', 'min_samples_leaf': 3, 'min_samples_split': 2, 'n_estimators': 1469}. Best is trial 3 with value: 1.0.\u001b[0m\n",
      "\u001b[32m[I 2022-11-24 21:24:04,616]\u001b[0m Trial 10 finished with value: 1.0 and parameters: {'bootstrap': True, 'max_depth': 22, 'max_features': 'sqrt', 'min_samples_leaf': 1, 'min_samples_split': 6, 'n_estimators': 585}. Best is trial 3 with value: 1.0.\u001b[0m\n",
      "\u001b[32m[I 2022-11-24 21:26:35,379]\u001b[0m Trial 11 finished with value: 1.0 and parameters: {'bootstrap': True, 'max_depth': 20, 'max_features': 'sqrt', 'min_samples_leaf': 1, 'min_samples_split': 6, 'n_estimators': 597}. Best is trial 3 with value: 1.0.\u001b[0m\n",
      "\u001b[32m[I 2022-11-24 21:29:08,667]\u001b[0m Trial 12 finished with value: 1.0 and parameters: {'bootstrap': True, 'max_depth': 38, 'max_features': 'sqrt', 'min_samples_leaf': 1, 'min_samples_split': 7, 'n_estimators': 639}. Best is trial 3 with value: 1.0.\u001b[0m\n",
      "\u001b[32m[I 2022-11-24 21:30:10,950]\u001b[0m Trial 13 finished with value: 1.0 and parameters: {'bootstrap': True, 'max_depth': 37, 'max_features': 'sqrt', 'min_samples_leaf': 1, 'min_samples_split': 5, 'n_estimators': 235}. Best is trial 3 with value: 1.0.\u001b[0m\n",
      "\u001b[32m[I 2022-11-24 21:33:17,518]\u001b[0m Trial 14 finished with value: 0.9999866666666666 and parameters: {'bootstrap': True, 'max_depth': 35, 'max_features': 'sqrt', 'min_samples_leaf': 1, 'min_samples_split': 8, 'n_estimators': 694}. Best is trial 3 with value: 1.0.\u001b[0m\n"
     ]
    }
   ],
   "source": [
    "#Execute optuna and set hyperparameters\n",
    "study = optuna.create_study(direction='maximize')\n",
    "study.optimize(objective, n_trials=15)"
   ]
  },
  {
   "cell_type": "code",
   "execution_count": 105,
   "metadata": {},
   "outputs": [
    {
     "data": {
      "text/plain": [
       "RandomForestClassifier(max_depth=21, max_features='sqrt', min_samples_leaf=2,\n",
       "                       min_samples_split=6, n_estimators=741)"
      ]
     },
     "execution_count": 105,
     "metadata": {},
     "output_type": "execute_result"
    }
   ],
   "source": [
    "#Create an instance with tuned hyperparameters\n",
    "optimised_rf_optuna = RandomForestClassifier(bootstrap = study.best_params['bootstrap'],\n",
    "                                     max_depth = study.best_params['max_depth'], max_features = study.best_params['max_features'],\n",
    "                                     min_samples_leaf = study.best_params['min_samples_leaf'],\n",
    "                                     min_samples_split = study.best_params['min_samples_split'],\n",
    "                                     n_estimators = study.best_params['n_estimators'])\n",
    "#learn\n",
    "optimised_rf_optuna.fit(X_train ,Y_train)"
   ]
  },
  {
   "cell_type": "code",
   "execution_count": null,
   "metadata": {},
   "outputs": [],
   "source": [
    "y_pred_optuna = optimised_rf_optuna.predict(X_test)"
   ]
  },
  {
   "cell_type": "code",
   "execution_count": null,
   "metadata": {},
   "outputs": [],
   "source": [
    "print('Baseline: Accuracy: ', round(accuracy_score(Y_test, y_pred_optuna)*100, 2))\n",
    "print('\\n Classification Report:\\n', classification_report(Y_test,y_pred_optuna))"
   ]
  },
  {
   "cell_type": "code",
   "execution_count": null,
   "metadata": {},
   "outputs": [],
   "source": [
    "y_pred_optuna = y_pred_optuna.rename(columns ={0: \"Predicted Genre\"} )"
   ]
  }
 ],
 "metadata": {
  "kernelspec": {
   "display_name": "Python 3.9.12 ('base')",
   "language": "python",
   "name": "python3"
  },
  "language_info": {
   "codemirror_mode": {
    "name": "ipython",
    "version": 3
   },
   "file_extension": ".py",
   "mimetype": "text/x-python",
   "name": "python",
   "nbconvert_exporter": "python",
   "pygments_lexer": "ipython3",
   "version": "3.9.12"
  },
  "orig_nbformat": 4,
  "vscode": {
   "interpreter": {
    "hash": "608613d311176af7649db539b0ba0c61a5e81ef5755c4e142e4a61ab8b76d711"
   }
  }
 },
 "nbformat": 4,
 "nbformat_minor": 2
}
